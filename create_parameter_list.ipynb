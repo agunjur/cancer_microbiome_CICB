{
 "cells": [
  {
   "cell_type": "code",
   "execution_count": 6,
   "id": "696479ee-8810-4560-bfab-f997c5f00118",
   "metadata": {},
   "outputs": [],
   "source": [
    "# Purpose: Notebook to create 'parameter_list.csv' for hyperparam search\n",
    "# Author: Ashray Gunjur\n",
    "# date: 2023-03-02\n",
    "\n",
    "import itertools as it\n",
    "import numpy as np\n",
    "import pandas as pd"
   ]
  },
  {
   "cell_type": "code",
   "execution_count": 9,
   "id": "a24f259a-17c0-4318-b8a8-af193fe3fe18",
   "metadata": {},
   "outputs": [],
   "source": [
    "# set parameters (feats= feature sets to select, K= number of features to select)\n",
    "\n",
    "## featue set glossary: t__ = sTrain, s__ = species, g__ = genus, f__ = family, c__ = clinical, e__ = tEchnical\n",
    "feats = [\"^t__\",\"^s__\",\"^g__\",\"^f__\",\"^c__\",\"^t__|^c__\",\"^s__|^c__\",\"^g__|^c__\",\"^f__|^c__\"]\n",
    "\n",
    "## target\n",
    "\n",
    "## define if using all, or subset of top features based on previously defined feature importance\n",
    "K = {\"all\"}\n",
    "all_combinations = list(it.product(feats, K))\n"
   ]
  },
  {
   "cell_type": "code",
   "execution_count": 10,
   "id": "313db39d-d171-4bca-b921-c7d204201a16",
   "metadata": {},
   "outputs": [],
   "source": [
    "# save\n",
    "param_list = pd.DataFrame(all_combinations, columns=['feats','K'])\n",
    "param_list.to_csv(\"parameter_list.csv\")"
   ]
  },
  {
   "cell_type": "code",
   "execution_count": null,
   "id": "b12d3bd1-9494-4bda-a34a-230f0a68f205",
   "metadata": {},
   "outputs": [],
   "source": []
  }
 ],
 "metadata": {
  "kernelspec": {
   "display_name": "Python 3 (ipykernel)",
   "language": "python",
   "name": "python3"
  },
  "language_info": {
   "codemirror_mode": {
    "name": "ipython",
    "version": 3
   },
   "file_extension": ".py",
   "mimetype": "text/x-python",
   "name": "python",
   "nbconvert_exporter": "python",
   "pygments_lexer": "ipython3",
   "version": "3.9.10"
  }
 },
 "nbformat": 4,
 "nbformat_minor": 5
}
